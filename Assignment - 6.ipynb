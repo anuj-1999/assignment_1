{
 "cells": [
  {
   "cell_type": "markdown",
   "id": "9a1d5fc6-ec0f-4595-926d-935744f9b1c5",
   "metadata": {},
   "source": [
    "# Assignment - 6"
   ]
  },
  {
   "cell_type": "markdown",
   "id": "9b7cb294-516a-4187-9ccd-cb375fd105e6",
   "metadata": {},
   "source": [
    "#### Q1. Explain Class and Object with respect to Object-Oriented Programming. Give a suitable example."
   ]
  },
  {
   "cell_type": "code",
   "execution_count": 1,
   "id": "2a666ecc-7048-429c-9acc-4033d7b48d1b",
   "metadata": {},
   "outputs": [],
   "source": [
    "\"\"\"\n",
    "In object-oriented programming (OOP), a class and an object are fundamental concepts that help organize and structure code. \n",
    "They are used to model real-world entities, and they facilitate the implementation of the OOP paradigm, which focuses on \n",
    "encapsulation, abstraction, inheritance, and polymorphism.\n",
    "\n",
    "Class:\n",
    "\n",
    "    1. A class is a blueprint or a template for creating objects. It defines the structure and behavior that its instances (objects) will have.\n",
    "    2. It serves as a blueprint for creating multiple objects with similar attributes and methods.\n",
    "    3. A class typically includes data attributes (variables) and methods (functions) that operate on those attributes.\n",
    "    4. It encapsulates the properties and behaviors that are common to a group of objects.\n",
    "\n",
    "Example:- \n",
    "\"\"\"\n",
    "class Person:\n",
    "    def __init__(self, name, age):\n",
    "        self.name = name\n",
    "        self.age = age\n",
    "\n",
    "    def say_hello(self):\n",
    "        print(f\"Hello, my name is {self.name} and I am {self.age} years old.\")"
   ]
  },
  {
   "cell_type": "code",
   "execution_count": 2,
   "id": "e7ffd31f-722c-40a4-8c0a-44f2ad723856",
   "metadata": {},
   "outputs": [],
   "source": [
    "person1 = Person(\"Alice\", 30)"
   ]
  },
  {
   "cell_type": "code",
   "execution_count": 3,
   "id": "ffe52c22-cd64-4013-ba57-1875c2124109",
   "metadata": {},
   "outputs": [
    {
     "name": "stdout",
     "output_type": "stream",
     "text": [
      "Alice\n",
      "Hello, my name is Alice and I am 30 years old.\n"
     ]
    }
   ],
   "source": [
    "print(person1.name)\n",
    "person1.say_hello()  "
   ]
  },
  {
   "cell_type": "markdown",
   "id": "33177235-f0c2-4bfc-a825-f5a07fc921b6",
   "metadata": {},
   "source": [
    "#### Q2. Name the four pillars of OOPs."
   ]
  },
  {
   "cell_type": "code",
   "execution_count": null,
   "id": "a61029ad-90d7-4594-8bd3-431996f1be80",
   "metadata": {},
   "outputs": [],
   "source": [
    "\"\"\"\n",
    "The four pillars of Object-Oriented Programming (OOP) are:-\n",
    "\n",
    "1. Encapsulation: This pillar involves bundling data (attributes) and the methods (functions) that operate \n",
    "on that data into a single unit called a class. Encapsulation helps in controlling access to the data and provides \n",
    "a way to hide the internal implementation details from the outside.\n",
    "\n",
    "2. Inheritance: Inheritance allows a class (called a subclass or derived class) to inherit properties and behaviors \n",
    "from another class (called a superclass or base class). It promotes code reuse and hierarchy among classes.\n",
    "\n",
    "3. Polymorphism: Polymorphism means the ability of objects of different classes to be treated as objects of a common \n",
    "superclass. It allows you to write code that can work with objects of multiple classes in a generic way. \n",
    "Polymorphism is often achieved through method overriding and interfaces.\n",
    "\n",
    "4. Abstraction: Abstraction involves simplifying complex reality by modeling classes based on the essential attributes \n",
    "and behaviors. It allows you to focus on the relevant details of an object while hiding unnecessary or intricate implementation details.\n",
    "\"\"\""
   ]
  },
  {
   "cell_type": "markdown",
   "id": "767ed8d1-7683-4807-a85e-d4bd8a4a25e2",
   "metadata": {},
   "source": [
    "#### Q3. Explain why the __init__() function is used. Give a suitable example."
   ]
  },
  {
   "cell_type": "code",
   "execution_count": 5,
   "id": "010a06a2-22e1-4d04-b39f-ca28d6024d04",
   "metadata": {},
   "outputs": [],
   "source": [
    "\"\"\"\n",
    "In Python, the \"__init__()\" function is used as a constructor method for a class. It is automatically called when an instance of the class is created. \n",
    "The primary purpose of the \"__init__()\" function is to initialize the attributes or properties of an object during its creation. \n",
    "It allows you to set the initial state of an object and perform any necessary setup or configuration.\n",
    "Example:-\n",
    "\"\"\"\n",
    "class Person:\n",
    "    def __init__(self, first_name, last_name, age):\n",
    "        self.first_name = first_name\n",
    "        self.last_name = last_name\n",
    "        self.age = age\n",
    "\n",
    "    def greet(self):\n",
    "        print(f\"Hello, my name is {self.first_name} {self.last_name}, and I am {self.age} years old.\")"
   ]
  },
  {
   "cell_type": "code",
   "execution_count": 6,
   "id": "eaf61c65-bfe3-4188-99db-61b02ca631ec",
   "metadata": {},
   "outputs": [],
   "source": [
    "person1 = Person(\"John\", \"Doe\", 30)"
   ]
  },
  {
   "cell_type": "code",
   "execution_count": 7,
   "id": "f8ca289e-97e1-4745-96b1-447f737a76c4",
   "metadata": {},
   "outputs": [
    {
     "name": "stdout",
     "output_type": "stream",
     "text": [
      "John\n",
      "30\n",
      "Hello, my name is John Doe, and I am 30 years old.\n"
     ]
    }
   ],
   "source": [
    "print(person1.first_name)  \n",
    "print(person1.age)\n",
    "person1.greet()           "
   ]
  },
  {
   "cell_type": "markdown",
   "id": "37eb8bee-644b-48ed-93f5-1b713822c51c",
   "metadata": {},
   "source": [
    "#### Q4. Why self is used in OOPs?"
   ]
  },
  {
   "cell_type": "code",
   "execution_count": 8,
   "id": "60190592-776d-4e40-b881-11abf1ac6014",
   "metadata": {},
   "outputs": [],
   "source": [
    "\"\"\"\n",
    "In object-oriented programming (OOP), self is a convention used in Python (and some other programming languages) to refer to the \n",
    "instance of the class. It is a reference to the current object that allows you to access and manipulate the attributes and methods \n",
    "of that object within the class.\n",
    "Example:-\n",
    "\"\"\"\n",
    "class Person:\n",
    "    def __init__(self, name, age):\n",
    "        self.name = name\n",
    "        self.age = age"
   ]
  },
  {
   "cell_type": "code",
   "execution_count": 9,
   "id": "c18e60d5-ff42-41b4-865b-c6975bd4dd1f",
   "metadata": {},
   "outputs": [],
   "source": [
    "person = Person(\"Alice\", 30)"
   ]
  },
  {
   "cell_type": "code",
   "execution_count": 11,
   "id": "e323806f-052e-4b4a-848e-5f2ed60b9b76",
   "metadata": {},
   "outputs": [
    {
     "data": {
      "text/plain": [
       "'Alice'"
      ]
     },
     "execution_count": 11,
     "metadata": {},
     "output_type": "execute_result"
    }
   ],
   "source": [
    "person.name"
   ]
  },
  {
   "cell_type": "code",
   "execution_count": 12,
   "id": "62c95f85-afd7-45b9-ab25-746c307263f6",
   "metadata": {},
   "outputs": [
    {
     "data": {
      "text/plain": [
       "30"
      ]
     },
     "execution_count": 12,
     "metadata": {},
     "output_type": "execute_result"
    }
   ],
   "source": [
    "person.age"
   ]
  },
  {
   "cell_type": "markdown",
   "id": "12c07def-956c-43a0-858b-83b57b1d4223",
   "metadata": {},
   "source": [
    "#### Q5. What is inheritance? Give an example for each type of inheritance."
   ]
  },
  {
   "cell_type": "code",
   "execution_count": null,
   "id": "2389f05c-1218-446e-b28e-87271aabeb51",
   "metadata": {},
   "outputs": [],
   "source": [
    "\"\"\"\n",
    "Inheritance is a fundamental concept in object-oriented programming that allows a new class (derived or child class) to inherit \n",
    "properties and behaviors (attributes and methods) from an existing class (base or parent class). Inheritance promotes code reusability \n",
    "and hierarchy in class structures. There are different types of inheritance, including single inheritance, multiple inheritance, multilevel \n",
    "inheritance, hierarchical inheritance, and hybrid inheritance. Here are examples for some of these types:-\n",
    "\"\"\""
   ]
  },
  {
   "cell_type": "code",
   "execution_count": 13,
   "id": "931ef499-1d5f-48a8-8774-15372326ca49",
   "metadata": {},
   "outputs": [],
   "source": [
    "# 1. Single Inheritance:\n",
    "# Single inheritance occurs when a derived class inherits from only one base class. Example:-\n",
    "class Animal:\n",
    "    def speak(self):\n",
    "        pass\n",
    "\n",
    "class Dog(Animal):\n",
    "    def speak(self):\n",
    "        return \"Woof!\""
   ]
  },
  {
   "cell_type": "code",
   "execution_count": 14,
   "id": "1300ba87-e63a-4cde-8390-f937a52dc5bb",
   "metadata": {},
   "outputs": [
    {
     "name": "stdout",
     "output_type": "stream",
     "text": [
      "Woof!\n"
     ]
    }
   ],
   "source": [
    "my_dog = Dog()\n",
    "print(my_dog.speak())"
   ]
  },
  {
   "cell_type": "code",
   "execution_count": 16,
   "id": "813487cb-5f57-4985-806f-82cace068a5b",
   "metadata": {},
   "outputs": [],
   "source": [
    "# 2. Multiple Inheritance:\n",
    "# Multiple inheritance occurs when a derived class inherits from more than one base class. Example:-\n",
    "class Parent1:\n",
    "    def method1(self):\n",
    "        pass\n",
    "\n",
    "class Parent2:\n",
    "    def method2(self):\n",
    "        pass\n",
    "\n",
    "class Child(Parent1, Parent2):\n",
    "    pass"
   ]
  },
  {
   "cell_type": "code",
   "execution_count": 17,
   "id": "2b7aa1c3-b3d4-4c8c-9ec4-b9565769c658",
   "metadata": {},
   "outputs": [],
   "source": [
    "my_child = Child()\n",
    "my_child.method1()"
   ]
  },
  {
   "cell_type": "code",
   "execution_count": 18,
   "id": "8171998b-d81d-466b-8827-28f85179f5b1",
   "metadata": {},
   "outputs": [],
   "source": [
    "my_child.method2()"
   ]
  }
 ],
 "metadata": {
  "kernelspec": {
   "display_name": "Python 3 (ipykernel)",
   "language": "python",
   "name": "python3"
  },
  "language_info": {
   "codemirror_mode": {
    "name": "ipython",
    "version": 3
   },
   "file_extension": ".py",
   "mimetype": "text/x-python",
   "name": "python",
   "nbconvert_exporter": "python",
   "pygments_lexer": "ipython3",
   "version": "3.11.4"
  }
 },
 "nbformat": 4,
 "nbformat_minor": 5
}
