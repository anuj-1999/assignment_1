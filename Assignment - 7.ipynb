{
 "cells": [
  {
   "cell_type": "markdown",
   "id": "6dfd6d3c-97bf-4165-a795-099863ee56fa",
   "metadata": {},
   "source": [
    "# Assignment - 7"
   ]
  },
  {
   "cell_type": "markdown",
   "id": "5c9ce79b-2c80-4506-9fa5-650704ba3314",
   "metadata": {},
   "source": [
    "#### Q1. Create a vehicle class with an init method having instance variables as name_of_vehicle, max_speed and average_of_vehicle."
   ]
  },
  {
   "cell_type": "code",
   "execution_count": 1,
   "id": "8680c285-f7b5-4330-b86e-ff5f085f8568",
   "metadata": {},
   "outputs": [],
   "source": [
    "class Vehicle:\n",
    "    def __init__(self, name_of_vehicle, max_speed, average_speed):\n",
    "        self.name_of_vehicle = name_of_vehicle\n",
    "        self.max_speed = max_speed\n",
    "        self.average_speed = average_speed"
   ]
  },
  {
   "cell_type": "code",
   "execution_count": 2,
   "id": "dd7e5f37-4dff-49fc-8749-a3b1224ca359",
   "metadata": {},
   "outputs": [],
   "source": [
    "car = Vehicle(\"Car\", 200, 60)\n",
    "bike = Vehicle(\"Bike\", 120, 40)"
   ]
  },
  {
   "cell_type": "code",
   "execution_count": 3,
   "id": "9a3c2030-14d5-4468-b22d-f03e7965d354",
   "metadata": {},
   "outputs": [
    {
     "name": "stdout",
     "output_type": "stream",
     "text": [
      "Car Name: Car\n",
      "Car Max Speed: 200\n",
      "Car Average Speed: 60\n"
     ]
    }
   ],
   "source": [
    "print(\"Car Name:\", car.name_of_vehicle)\n",
    "print(\"Car Max Speed:\", car.max_speed)\n",
    "print(\"Car Average Speed:\", car.average_speed)"
   ]
  },
  {
   "cell_type": "code",
   "execution_count": 4,
   "id": "e69bfde1-eb57-4f1b-87a5-a2e61701f5b4",
   "metadata": {},
   "outputs": [
    {
     "name": "stdout",
     "output_type": "stream",
     "text": [
      "Bike Name: Bike\n",
      "Bike Max Speed: 120\n",
      "Bike Average Speed: 40\n"
     ]
    }
   ],
   "source": [
    "print(\"Bike Name:\", bike.name_of_vehicle)\n",
    "print(\"Bike Max Speed:\", bike.max_speed)\n",
    "print(\"Bike Average Speed:\", bike.average_speed)"
   ]
  },
  {
   "cell_type": "markdown",
   "id": "d5cf30bb-ffd8-4d30-9f8a-4fe220c22216",
   "metadata": {},
   "source": [
    "#### Q2. Create a child class car from the vehicle class created in Que 1, which will inherit the vehicle class.Create a method named seating_capacity which takes capacity as an argument and returns the name ofthe vehicle and its seating capacity."
   ]
  },
  {
   "cell_type": "code",
   "execution_count": 5,
   "id": "5d68dc3b-7fc7-46dd-96d3-93e78bd9e6b2",
   "metadata": {},
   "outputs": [],
   "source": [
    "class Vehicle:\n",
    "    def __init__(self, make, model, year):\n",
    "        self.make = make\n",
    "        self.model = model\n",
    "        self.year = year\n",
    "\n",
    "    def get_vehicle_info(self):\n",
    "        return f\"{self.year} {self.make} {self.model}\""
   ]
  },
  {
   "cell_type": "code",
   "execution_count": 6,
   "id": "5245f5d1-2a92-4780-bf8d-aa30bca1d142",
   "metadata": {},
   "outputs": [],
   "source": [
    "class Car(Vehicle):\n",
    "    def seating_capacity(self, capacity):\n",
    "        return f\"{self.get_vehicle_info()} has a seating capacity of {capacity} passengers\""
   ]
  },
  {
   "cell_type": "code",
   "execution_count": 8,
   "id": "8363202a-8962-41df-a351-19028d224365",
   "metadata": {},
   "outputs": [],
   "source": [
    "car = Car(\"Toyota\", \"Camry\", 2022)"
   ]
  },
  {
   "cell_type": "code",
   "execution_count": 9,
   "id": "824e4f35-27a2-472b-a010-0f321a384a19",
   "metadata": {},
   "outputs": [
    {
     "name": "stdout",
     "output_type": "stream",
     "text": [
      "2022 Toyota Camry has a seating capacity of 5 passengers\n"
     ]
    }
   ],
   "source": [
    "capacity = 5\n",
    "result = car.seating_capacity(capacity)\n",
    "print(result)"
   ]
  },
  {
   "cell_type": "markdown",
   "id": "0f4258bf-8b51-4ec8-bd85-be3ed9251e76",
   "metadata": {},
   "source": [
    "#### Q3. What is multiple inheritance? Write a python code to demonstrate multiple inheritance."
   ]
  },
  {
   "cell_type": "code",
   "execution_count": 10,
   "id": "b2b5fcb9-1827-4206-8133-ed36d3205819",
   "metadata": {},
   "outputs": [],
   "source": [
    "\"\"\"\n",
    "Multiple inheritance is a feature in object-oriented programming that allows a class to inherit attributes and methods from \n",
    "more than one parent class. In Python, you can demonstrate multiple inheritance by creating a class that inherits from multiple parent classes.\n",
    "\"\"\"\n",
    "class Parent1:\n",
    "    def method1(self):\n",
    "        print(\"Method 1 from Parent1\")\n",
    "\n",
    "class Parent2:\n",
    "    def method2(self):\n",
    "        print(\"Method 2 from Parent2\")\n",
    "\n",
    "class Child(Parent1, Parent2):\n",
    "    def child_method(self):\n",
    "        print(\"Child's method\")"
   ]
  },
  {
   "cell_type": "code",
   "execution_count": 11,
   "id": "931b4fa4-b060-4572-ab66-071fe35d4899",
   "metadata": {},
   "outputs": [],
   "source": [
    "child_instance = Child()"
   ]
  },
  {
   "cell_type": "code",
   "execution_count": 12,
   "id": "e02119a5-d98b-4628-9951-7987f1477495",
   "metadata": {},
   "outputs": [
    {
     "name": "stdout",
     "output_type": "stream",
     "text": [
      "Method 1 from Parent1\n",
      "Method 2 from Parent2\n",
      "Child's method\n"
     ]
    }
   ],
   "source": [
    "child_instance.method1()\n",
    "child_instance.method2()\n",
    "child_instance.child_method()"
   ]
  },
  {
   "cell_type": "markdown",
   "id": "6d857cc4-44cf-464b-93ac-b089e4e5f09d",
   "metadata": {},
   "source": [
    "#### Q4. What are getter and setter in python? Create a class and create a getter and a setter method in this class."
   ]
  },
  {
   "cell_type": "code",
   "execution_count": 14,
   "id": "c0b0deac-a318-446b-be60-49d25a3045ae",
   "metadata": {},
   "outputs": [],
   "source": [
    "\"\"\"\n",
    "In Python, getters and setters are methods that allow you to get and set the values of class attributes (instance variables) \n",
    "while providing control and encapsulation. They are commonly used to implement data encapsulation and access control. \n",
    "Getters are used to access the values of attributes, and setters are used to modify or set the values of attributes.\n",
    "Example:-\n",
    "\"\"\"\n",
    "class Student:\n",
    "    def __init__(self, name, age):\n",
    "        self._name = name \n",
    "        self._age = age\n",
    "\n",
    "    def get_name(self):\n",
    "        return self._name\n",
    "\n",
    "    def set_name(self, name):\n",
    "        self._name = name\n",
    "\n",
    "    def get_age(self):\n",
    "        return self._age\n",
    "\n",
    "    def set_age(self, age):\n",
    "        if age > 0:\n",
    "            self._age = age\n",
    "        else:\n",
    "            print(\"Age cannot be negative.\")"
   ]
  },
  {
   "cell_type": "code",
   "execution_count": 15,
   "id": "2b46ecb7-7aaf-4ecd-8415-a71eee64d26e",
   "metadata": {},
   "outputs": [],
   "source": [
    "student1 = Student(\"Alice\", 20)"
   ]
  },
  {
   "cell_type": "code",
   "execution_count": 17,
   "id": "b7de562d-b24a-49f8-b680-d42cc3e0900b",
   "metadata": {},
   "outputs": [
    {
     "name": "stdout",
     "output_type": "stream",
     "text": [
      "Student name: Alice\n"
     ]
    }
   ],
   "source": [
    "print(\"Student name:\", student1.get_name())"
   ]
  },
  {
   "cell_type": "code",
   "execution_count": 18,
   "id": "ab5ff031-6223-4406-9369-edbebba23f47",
   "metadata": {},
   "outputs": [],
   "source": [
    "student1.set_name(\"Bob\")"
   ]
  },
  {
   "cell_type": "code",
   "execution_count": 19,
   "id": "70ccbf35-9bdc-4062-a527-1e0f437704fd",
   "metadata": {},
   "outputs": [
    {
     "name": "stdout",
     "output_type": "stream",
     "text": [
      "Updated student name: Bob\n"
     ]
    }
   ],
   "source": [
    "print(\"Updated student name:\", student1.get_name())"
   ]
  },
  {
   "cell_type": "code",
   "execution_count": 20,
   "id": "0adb73d0-4310-4c7e-a0ac-d2ca2cfd3124",
   "metadata": {},
   "outputs": [
    {
     "name": "stdout",
     "output_type": "stream",
     "text": [
      "Age cannot be negative.\n"
     ]
    }
   ],
   "source": [
    "student1.set_age(-5)"
   ]
  },
  {
   "cell_type": "code",
   "execution_count": 21,
   "id": "ea6bff18-8e21-4e99-911f-0773b1d30e16",
   "metadata": {},
   "outputs": [
    {
     "name": "stdout",
     "output_type": "stream",
     "text": [
      "Student age: 20\n"
     ]
    }
   ],
   "source": [
    "print(\"Student age:\", student1.get_age())"
   ]
  },
  {
   "cell_type": "markdown",
   "id": "5eabe6c0-5a11-491c-859e-cde4dc848189",
   "metadata": {},
   "source": [
    "#### Q5.What is method overriding in python? Write a python code to demonstrate method overriding."
   ]
  },
  {
   "cell_type": "code",
   "execution_count": 22,
   "id": "abfd7f7b-5cca-4e4e-8a9c-eb680b9f82b0",
   "metadata": {},
   "outputs": [],
   "source": [
    "\"\"\"\n",
    "Method overriding in Python is a feature of object-oriented programming that allows a subclass to provide a specific implementation for \n",
    "a method that is already defined in its superclass. When a subclass defines a method with the same name and signature as a method in its \n",
    "superclass, the subclass's method overrides the superclass's method.\n",
    "Example:- \n",
    "\"\"\"\n",
    "class Animal:\n",
    "    def speak(self):\n",
    "        print(\"Animal speaks\")\n",
    "\n",
    "class Dog(Animal):\n",
    "    def speak(self):\n",
    "        print(\"Dog barks\")\n",
    "\n",
    "class Cat(Animal):\n",
    "    def speak(self):\n",
    "        print(\"Cat meows\")"
   ]
  },
  {
   "cell_type": "code",
   "execution_count": 23,
   "id": "3cda0abe-653f-4f17-a8a4-aaed1913fb9f",
   "metadata": {},
   "outputs": [],
   "source": [
    "animal = Animal()\n",
    "dog = Dog()\n",
    "cat = Cat()"
   ]
  },
  {
   "cell_type": "code",
   "execution_count": 24,
   "id": "a9058362-c8e4-45f6-b650-4bf119fc2212",
   "metadata": {},
   "outputs": [
    {
     "name": "stdout",
     "output_type": "stream",
     "text": [
      "Animal speaks\n",
      "Dog barks\n",
      "Cat meows\n"
     ]
    }
   ],
   "source": [
    "animal.speak()  \n",
    "dog.speak()\n",
    "cat.speak() "
   ]
  },
  {
   "cell_type": "code",
   "execution_count": null,
   "id": "1e165a19-69e8-47df-8815-133054771543",
   "metadata": {},
   "outputs": [],
   "source": []
  }
 ],
 "metadata": {
  "kernelspec": {
   "display_name": "Python 3 (ipykernel)",
   "language": "python",
   "name": "python3"
  },
  "language_info": {
   "codemirror_mode": {
    "name": "ipython",
    "version": 3
   },
   "file_extension": ".py",
   "mimetype": "text/x-python",
   "name": "python",
   "nbconvert_exporter": "python",
   "pygments_lexer": "ipython3",
   "version": "3.11.4"
  }
 },
 "nbformat": 4,
 "nbformat_minor": 5
}
