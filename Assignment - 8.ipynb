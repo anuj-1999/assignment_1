{
 "cells": [
  {
   "cell_type": "markdown",
   "id": "59bc7541-f173-4f1c-bcd2-235ec91ed2fe",
   "metadata": {},
   "source": [
    "# Assignment - 8"
   ]
  },
  {
   "cell_type": "markdown",
   "id": "74458fc7-7967-438d-907b-56af52990a29",
   "metadata": {},
   "source": [
    "#### 1. What is an Exception in Python? Write the difference between Exceptions and Syntax error?"
   ]
  },
  {
   "cell_type": "code",
   "execution_count": null,
   "id": "ddde3285-523e-4de9-bffe-d613549c89d9",
   "metadata": {},
   "outputs": [],
   "source": [
    "\"\"\"\n",
    "In Python, an exception is an event that occurs during the execution of a program and disrupts the normal flow of the \n",
    "program. When an exceptional situation or error is encountered, Python raises an exception, which can be caught and \n",
    "handled by the programmer to prevent the program from crashing. Exceptions allow you to gracefully handle errors and \n",
    "respond to them in a structured way, rather than letting the program terminate unexpectedly.\n",
    "\n",
    "Exceptions are objects that represent errors or exceptional situations in Python. They typically include information \n",
    "about the type of error and the context in which it occurred. You can raise exceptions explicitly in your code or handle \n",
    "exceptions that are raised by Python or external libraries.\n",
    "\n",
    "Examples of built-in exceptions in Python include:- \n",
    "\n",
    "1. ZeroDivisionError: Raised when trying to divide by zero.\n",
    "2. TypeError: Raised when an operation is performed on an object of inappropriate type.\n",
    "3. ValueError: Raised when a function receives an argument of the correct type but with an inappropriate value.\n",
    "4. FileNotFoundError: Raised when an attempt to open a file that doesn't exist is made.\n",
    "5. IndexError: Raised when trying to access an index that is out of range in a sequence (e.g., a list).\n",
    "\n",
    "Syntax errors, on the other hand, are different from exceptions. They occur when there is a problem with the structure \n",
    "of your code,  such as a typo, missing or incorrect indentation, or using a reserved keyword incorrectly. Syntax errors \n",
    "prevent the program from running at all because they violate the rules of the Python language, making it impossible for \n",
    "Python to understand and execute the code.\n",
    "\n",
    "Here are the key differences between exceptions and syntax errors:\n",
    "\n",
    "1. Cause:- Exceptions are runtime errors that occur during program execution due to invalid input, external factors, or \n",
    "other issues.Syntax errors are detected by the Python interpreter before the program starts running and are caused by \n",
    "violations of the language's syntax rules.\n",
    "\n",
    "2. When They Occur:- Exceptions occur during the execution of the program and can be caused by a wide range of factors.\n",
    "Syntax errors are identified by the Python interpreter during the parsing phase, before the program is executed.\n",
    "\n",
    "3. Handling:- Exceptions can be caught and handled using try and except blocks, allowing you to respond to errors and \n",
    "continue program execution.Syntax errors must be fixed in the code before the program can be run successfully. \n",
    "\n",
    "\"\"\""
   ]
  },
  {
   "cell_type": "markdown",
   "id": "fa4e75d4-5ef9-40b3-b180-6943194482e1",
   "metadata": {},
   "source": [
    "#### 2. What happens when an exception is not handled? Explain with an simple example."
   ]
  },
  {
   "cell_type": "code",
   "execution_count": 13,
   "id": "3a7cdfae-b4d9-4911-a8b2-87f3f171496b",
   "metadata": {},
   "outputs": [
    {
     "name": "stdout",
     "output_type": "stream",
     "text": [
      "Error: Division by zero\n"
     ]
    }
   ],
   "source": [
    "\"\"\"\n",
    "When an exception is not handled, it can lead to program termination or unexpected behavior. In most programming languages, \n",
    "unhandled exceptions cause the program to halt and display an error message or stack trace, making it easier to identify \n",
    "and diagnose the issue. This is a critical aspect of robust software development because it prevents silent failures and \n",
    "helps developers identify and fix problems.\n",
    "Example:- \n",
    "\"\"\"\n",
    "def divide(a, b):\n",
    "    return a / b\n",
    "\n",
    "try:\n",
    "    result = divide(10, 0)\n",
    "    print(\"The result is:\", result)\n",
    "except ZeroDivisionError:\n",
    "    print(\"Error: Division by zero\")"
   ]
  },
  {
   "cell_type": "markdown",
   "id": "b5fe74dc-d934-4e95-88e0-19c2acc2d3c8",
   "metadata": {},
   "source": [
    "#### 3. Which Python statements are used to catch and handle exception ? Explain with an example "
   ]
  },
  {
   "cell_type": "code",
   "execution_count": 16,
   "id": "af40c502-f18a-45ba-962b-77467bc5efee",
   "metadata": {},
   "outputs": [
    {
     "name": "stdin",
     "output_type": "stream",
     "text": [
      "Enter a number:  10\n",
      "Enter another number:  0\n"
     ]
    },
    {
     "name": "stdout",
     "output_type": "stream",
     "text": [
      "Error: Division by zero is not allowed.\n"
     ]
    }
   ],
   "source": [
    "\"\"\"\n",
    "In Python, you can use try and except statements to catch and handle exceptions. The try block contains the code that \n",
    "might raise an exception, and the except block contains the code to handle the exception when it occurs. Here's the \n",
    "basic structure of a try and except block:\n",
    "\n",
    "try: # Code that might raise an exception\n",
    "\n",
    "except ExceptionType: # Code to handle the exception\n",
    "\n",
    "Examples:- \n",
    "\"\"\"\n",
    "try:\n",
    "    num1 = int(input(\"Enter a number: \"))\n",
    "    num2 = int(input(\"Enter another number: \"))\n",
    "    \n",
    "    result = num1 / num2\n",
    "    print(f\"The result of division is: {result}\")\n",
    "except ZeroDivisionError:\n",
    "    print(\"Error: Division by zero is not allowed.\")\n",
    "except ValueError:\n",
    "    print(\"Error: Invalid input. Please enter valid numbers.\")\n",
    "except Exception as e:\n",
    "    print(f\"An error occurred: {e}\")"
   ]
  },
  {
   "cell_type": "markdown",
   "id": "f9bd18e7-dc06-4222-91ef-df279db18924",
   "metadata": {},
   "source": [
    "#### 4.Explain with simple example \n",
    "##### a. try and else"
   ]
  },
  {
   "cell_type": "code",
   "execution_count": 15,
   "id": "5c22c44c-a221-4eca-9573-d6b716a687ee",
   "metadata": {},
   "outputs": [
    {
     "name": "stdout",
     "output_type": "stream",
     "text": [
      "Error: Division by zero is not allowed.\n"
     ]
    }
   ],
   "source": [
    "\"\"\"\n",
    "In programming, a \"try\" and \"else\" block is often used for handling errors or exceptions that might occur in your code. \n",
    "Let me explain this concept with a simple example in Python.\n",
    "\n",
    "Suppose you have a program that needs to divide two numbers, and you want to make sure it doesn't crash if the second \n",
    "number is zero (which would result in a division by zero error). You can use a \"try\" and \"else\" block to handle this \n",
    "situation gracefully.\n",
    "Example:- \n",
    "\"\"\"\n",
    "try:\n",
    "    numerator = 10\n",
    "    denominator = 0 \n",
    "    result = numerator / denominator\n",
    "except ZeroDivisionError:\n",
    "    print(\"Error: Division by zero is not allowed.\")\n",
    "else:\n",
    "    print(\"The result of the division is:\", result)"
   ]
  },
  {
   "cell_type": "markdown",
   "id": "45fa7afc-4d12-40b6-b310-6c2178f8f57e",
   "metadata": {},
   "source": [
    "##### b. Finally"
   ]
  },
  {
   "cell_type": "code",
   "execution_count": 14,
   "id": "037490ab-5a0a-4119-82bc-0cce010dff9d",
   "metadata": {},
   "outputs": [
    {
     "name": "stdout",
     "output_type": "stream",
     "text": [
      "Error: Division by zero\n",
      "This code will always run\n",
      "Program continues here\n"
     ]
    }
   ],
   "source": [
    "\"\"\"\n",
    "The finally keyword is often used in programming languages, such as Python, Java, and many others, to ensure that \n",
    "a particular block of code gets executed regardless of whether an exception (error) occurs or not. It's typically \n",
    "used in the context of exception handling and resource management.\n",
    "Example:- \n",
    "\"\"\"\n",
    "try:\n",
    "    result = 10 / 0  \n",
    "except ZeroDivisionError:\n",
    "    print(\"Error: Division by zero\")\n",
    "finally:\n",
    "    print(\"This code will always run\")\n",
    "\n",
    "print(\"Program continues here\")"
   ]
  },
  {
   "cell_type": "markdown",
   "id": "f4bfe3e4-033c-40a3-8bd5-386d21797c7d",
   "metadata": {},
   "source": [
    "##### c. raise"
   ]
  },
  {
   "cell_type": "code",
   "execution_count": 10,
   "id": "13148612-f184-4804-a955-2cb90acb2bfd",
   "metadata": {},
   "outputs": [
    {
     "name": "stdout",
     "output_type": "stream",
     "text": [
      "Result: 5.0\n"
     ]
    }
   ],
   "source": [
    "\"\"\"\n",
    "In programming, the \"raise\" statement is often used to generate an exception or error intentionally. \n",
    "Exceptions are events that disrupt the normal flow of a program and can be used to handle errors or exceptional situations.\n",
    "Example:- \n",
    "\"\"\"\n",
    "def divide(a, b):\n",
    "    if b == 0:\n",
    "        raise ZeroDivisionError(\"Division by zero is not allowed.\")\n",
    "    return a / b\n",
    "\n",
    "try:\n",
    "    result = divide(10, 2)\n",
    "    print(\"Result:\", result)\n",
    "except ZeroDivisionError as e:\n",
    "    print(\"Error:\", e)"
   ]
  },
  {
   "cell_type": "markdown",
   "id": "8fd6a4b5-2c84-4195-985e-59fdd4e44e4d",
   "metadata": {},
   "source": [
    "#### 5. What are Custom Exceptions in Python? why do we need Custom Exception ? Explain With an example. "
   ]
  },
  {
   "cell_type": "code",
   "execution_count": 17,
   "id": "2753249c-0d10-4970-8417-a15b33629408",
   "metadata": {},
   "outputs": [
    {
     "name": "stdout",
     "output_type": "stream",
     "text": [
      "An error occurred: Division by zero is not allowed\n"
     ]
    }
   ],
   "source": [
    "\"\"\"\n",
    "In Python, custom exceptions, also known as user-defined exceptions, allow you to define your own exception classes \n",
    "that can be raised in your code to handle specific error situations. Custom exceptions are useful when the built-in \n",
    "exceptions provided by Python don't adequately describe the error conditions in your program, or when you want to group\n",
    "related exceptions together for easier error handling and debugging.\n",
    "\n",
    "Here's why you might need custom exceptions:\n",
    "\n",
    "1. Clarity and Readability: Custom exceptions make your code more self-explanatory. When you raise or catch a custom \n",
    "exception, it clearly indicates the nature of the error or problem that occurred.\n",
    "\n",
    "2. Error Categorization: You can group similar errors together under a common custom exception class, making it easier to \n",
    "handle related exceptions with a single except block.\n",
    "\n",
    "3. Customized Error Messages: You can provide custom error messages and additional data with your custom exceptions, \n",
    "which can be helpful for debugging and communicating the nature of the error.\n",
    "\n",
    "4.Enforce Specific Logic: You can enforce specific logic or constraints using custom exceptions. For instance, you can\n",
    "create a custom exception to ensure that certain conditions are met before a particular operation is allowed.\n",
    "\n",
    "Example:- \n",
    "\"\"\"\n",
    "class InvalidInputError(Exception):\n",
    "    def __init__(self, message=\"Invalid input provided\"):\n",
    "        super().__init__(message)\n",
    "\n",
    "def divide(a, b):\n",
    "    if b == 0:\n",
    "        raise InvalidInputError(\"Division by zero is not allowed\")\n",
    "    return a / b\n",
    "\n",
    "try:\n",
    "    result = divide(10, 0)\n",
    "except InvalidInputError as e:\n",
    "    print(f\"An error occurred: {e}\")\n",
    "else:\n",
    "    print(f\"Result: {result}\")"
   ]
  },
  {
   "cell_type": "markdown",
   "id": "b928d43a-b583-4fc5-b77e-f660470cdb9d",
   "metadata": {},
   "source": [
    "#### 6. Create a custom exception class. Use this class to handle an exception."
   ]
  },
  {
   "cell_type": "code",
   "execution_count": 12,
   "id": "f6585913-b9d1-44f2-931f-bb1ce00a7e39",
   "metadata": {},
   "outputs": [
    {
     "name": "stdout",
     "output_type": "stream",
     "text": [
      "Custom Exception Caught: Division by zero is not allowed\n"
     ]
    }
   ],
   "source": [
    "class CustomException(Exception):\n",
    "    def __init__(self, message):\n",
    "        super().__init__(message)\n",
    "\n",
    "def divide(a, b):\n",
    "    if b == 0:\n",
    "        raise CustomException(\"Division by zero is not allowed\")\n",
    "    return a / b\n",
    "\n",
    "try:\n",
    "    result = divide(10, 0)\n",
    "except CustomException as e:\n",
    "    print(f\"Custom Exception Caught: {e}\")\n",
    "except ZeroDivisionError as e:\n",
    "    print(f\"Zero Division Error Caught: {e}\")\n",
    "else:\n",
    "    print(f\"Result: {result}\")"
   ]
  }
 ],
 "metadata": {
  "kernelspec": {
   "display_name": "Python 3 (ipykernel)",
   "language": "python",
   "name": "python3"
  },
  "language_info": {
   "codemirror_mode": {
    "name": "ipython",
    "version": 3
   },
   "file_extension": ".py",
   "mimetype": "text/x-python",
   "name": "python",
   "nbconvert_exporter": "python",
   "pygments_lexer": "ipython3",
   "version": "3.11.4"
  }
 },
 "nbformat": 4,
 "nbformat_minor": 5
}
