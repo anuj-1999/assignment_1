{
 "cells": [
  {
   "cell_type": "markdown",
   "id": "864e40a2-a702-49ca-ab9a-2183f55dea55",
   "metadata": {},
   "source": [
    "# Assignment-1 (09 May 2023)"
   ]
  },
  {
   "cell_type": "markdown",
   "id": "99cb11b3-66b4-4466-ba7d-402107014e7a",
   "metadata": {},
   "source": [
    "Q1. Create one variable containing following type of data:\n",
    "(i) string\n",
    "(ii) list\n",
    "(iii) float\n",
    "(iv) tuple"
   ]
  },
  {
   "cell_type": "code",
   "execution_count": 1,
   "id": "d6770efe-09a6-4efc-b6bc-b7d16a51f948",
   "metadata": {},
   "outputs": [
    {
     "name": "stdout",
     "output_type": "stream",
     "text": [
      "Hello, World!\n",
      "<class 'str'>\n",
      "[1, 2, 3, 4, 5]\n",
      "<class 'list'>\n",
      "3.14\n",
      "<class 'float'>\n",
      "(10, 20, 30)\n",
      "<class 'tuple'>\n"
     ]
    }
   ],
   "source": [
    "# String variable\n",
    "my_string = \"Hello, World!\"\n",
    "print(my_string)\n",
    "print(type(my_string))\n",
    "\n",
    "# List variable\n",
    "my_list = [1, 2, 3, 4, 5]\n",
    "print(my_list)\n",
    "print(type(my_list))\n",
    "\n",
    "# Float variable\n",
    "my_float = 3.14\n",
    "print(my_float)\n",
    "print(type(my_float))\n",
    "\n",
    "# Tuple variable\n",
    "my_tuple = (10, 20, 30)\n",
    "print(my_tuple)\n",
    "print(type(my_tuple))"
   ]
  },
  {
   "cell_type": "markdown",
   "id": "d5b94cde-0de0-48c1-ad6a-0c4a01419aeb",
   "metadata": {},
   "source": [
    "Q2. Given are some following variables containing data:\n",
    "(i) var1 = ‘ ‘\n",
    "(ii) var2 = ‘[ DS , ML , Python]’\n",
    "(iii) var3 = [ ‘DS’ , ’ML’ , ‘Python’ ]\n",
    "(iv) var4 = 1.\n",
    "What will be the data type of the above given variable."
   ]
  },
  {
   "cell_type": "code",
   "execution_count": 8,
   "id": "dba76671-f2f8-4395-98dc-9ade6d4c6a5e",
   "metadata": {},
   "outputs": [
    {
     "name": "stdout",
     "output_type": "stream",
     "text": [
      "\n",
      "\n",
      " Var 1 : <class 'str'>\n",
      " Var 2 : <class 'str'>\n",
      " Var 3 : <class 'list'>\n",
      " Var 4 : <class 'float'>\n"
     ]
    }
   ],
   "source": [
    "var1 = ' '\n",
    "var2 = '[ DS , ML , Python]'\n",
    "var3 = [ 'DS' , 'ML' , 'Python' ]\n",
    "var4 = 1.\n",
    "print(\"\\n\")\n",
    "print(f\" Var 1 : {type(var1)}\")\n",
    "print(f\" Var 2 : {type(var2)}\")\n",
    "print(f\" Var 3 : {type(var3)}\")\n",
    "print(f\" Var 4 : {type(var4)}\")"
   ]
  },
  {
   "cell_type": "markdown",
   "id": "92f0892b-4917-4dc6-98b0-803096af0444",
   "metadata": {},
   "source": [
    "Q3. Explain the use of the following operators using an example:\n",
    "(i) /\n",
    "(ii) %\n",
    "(iii) //\n",
    "(iv) **"
   ]
  },
  {
   "cell_type": "code",
   "execution_count": 13,
   "id": "ec5c2594-b62e-4919-a9f0-246f083482e1",
   "metadata": {},
   "outputs": [
    {
     "name": "stdout",
     "output_type": "stream",
     "text": [
      "Division Operator : 5.0\n",
      "Modulus Opearator: 1\n",
      "Floor Division Operator: 3\n",
      "Exponentiation Operator: 8\n"
     ]
    }
   ],
   "source": [
    "# (i) / (Division Operator):-\n",
    "# The / operator is used for division in Python, and it returns the quotient of dividing the left operand by the right operand. Example: - \n",
    "result = 10 / 2\n",
    "print(f\"Division Operator : {result}\")\n",
    "\n",
    "# (ii) % (Modulus Operator):\n",
    "# The % operator is used for the modulus operation, which returns the remainder of dividing the left operand by the right operand. Example: - \n",
    "remainder = 10 % 3\n",
    "print(f\"Modulus Opearator: {remainder}\")\n",
    "\n",
    "#  (iii) // (Floor Division Operator):\n",
    "# The // operator is used for floor division. It divides the left operand by the right operand and rounds down to the nearest integer. Example: -\n",
    "result1 = 10 // 3\n",
    "print(f\"Floor Division Operator: {result1}\")\n",
    "\n",
    "# (iv) ** (Exponentiation Operator):\n",
    "# The ** operator is used for exponentiation. It raises the left operand to the power of the right operand. Example: -\n",
    "result2 = 2 ** 3\n",
    "print(f\"Exponentiation Operator: {result2}\")"
   ]
  },
  {
   "cell_type": "markdown",
   "id": "584df85f-5269-4e1f-9d1c-0deed9ee9cec",
   "metadata": {},
   "source": [
    "Q4. Create a list of length 10 of your choice containing multiple types of data. Using for loop print the\n",
    "element and its data type."
   ]
  },
  {
   "cell_type": "code",
   "execution_count": 14,
   "id": "1c3b2bd8-d662-4f75-ad14-51b0109888fb",
   "metadata": {},
   "outputs": [
    {
     "name": "stdout",
     "output_type": "stream",
     "text": [
      "Element: 1, Data Type: <class 'int'>\n",
      "Element: Hello, Data Type: <class 'str'>\n",
      "Element: 3.14, Data Type: <class 'float'>\n",
      "Element: True, Data Type: <class 'bool'>\n",
      "Element: [1, 2, 3], Data Type: <class 'list'>\n",
      "Element: {'name': 'John', 'age': 30}, Data Type: <class 'dict'>\n",
      "Element: None, Data Type: <class 'NoneType'>\n",
      "Element: (4, 5), Data Type: <class 'tuple'>\n",
      "Element: False, Data Type: <class 'bool'>\n",
      "Element: World, Data Type: <class 'str'>\n"
     ]
    }
   ],
   "source": [
    "my_list = [1, 'Hello', 3.14, True, [1, 2, 3], {'name': 'John', 'age': 30}, None, (4, 5), False, 'World']\n",
    "\n",
    "for item in my_list:\n",
    "    print(f\"Element: {item}, Data Type: {type(item)}\")"
   ]
  },
  {
   "cell_type": "markdown",
   "id": "e29566f8-8dc1-47d1-b6b7-3ffba14e938c",
   "metadata": {},
   "source": [
    "Q5. Using a while loop, verify if the number A is purely divisible by number B and if so then how many\n",
    "times it can be divisible."
   ]
  },
  {
   "cell_type": "code",
   "execution_count": 25,
   "id": "a247eb03-a8d1-444f-9d92-07d345128e9d",
   "metadata": {},
   "outputs": [
    {
     "name": "stdin",
     "output_type": "stream",
     "text": [
      "Enter the number A:  50\n",
      "Enter the number B:  5\n"
     ]
    },
    {
     "name": "stdout",
     "output_type": "stream",
     "text": [
      "2 times, and the remainder is 2\n"
     ]
    }
   ],
   "source": [
    "A = int(input(\"Enter the number A: \"))\n",
    "B = int(input(\"Enter the number B: \"))\n",
    "\n",
    "# Initialize a count variable to keep track of the number of divisions\n",
    "count = 0\n",
    "\n",
    "# Use a while loop to perform division until A is no longer divisible by B\n",
    "while A % B == 0:\n",
    "    A = A // B  # Divide A by B and update A\n",
    "    count += 1   # Increment the count\n",
    "\n",
    "# Check if A is completely divisible by B and print the result\n",
    "if A == 0:\n",
    "    print(f\"{count} times, and the result is 0\")\n",
    "else:\n",
    "    print(f\"{count} times, and the remainder is {A}\")"
   ]
  },
  {
   "cell_type": "markdown",
   "id": "1b80441e-d839-435e-a149-e5181ad7aacd",
   "metadata": {},
   "source": [
    "Q6. Create a list containing 25 int type data. Using for loop and if-else condition print if the element is\n",
    "divisible by 3 or not."
   ]
  },
  {
   "cell_type": "code",
   "execution_count": 26,
   "id": "a23c3cfc-48ef-4cd2-9320-27f17e4d6a9b",
   "metadata": {},
   "outputs": [
    {
     "name": "stdout",
     "output_type": "stream",
     "text": [
      "12 is divisible by 3\n",
      "6 is divisible by 3\n",
      "9 is divisible by 3\n",
      "14 is not divisible by 3\n",
      "27 is divisible by 3\n",
      "18 is divisible by 3\n",
      "21 is divisible by 3\n",
      "8 is not divisible by 3\n",
      "33 is divisible by 3\n",
      "5 is not divisible by 3\n",
      "15 is divisible by 3\n",
      "30 is divisible by 3\n",
      "42 is divisible by 3\n",
      "11 is not divisible by 3\n",
      "7 is not divisible by 3\n",
      "36 is divisible by 3\n",
      "20 is not divisible by 3\n",
      "4 is not divisible by 3\n",
      "10 is not divisible by 3\n",
      "22 is not divisible by 3\n",
      "17 is not divisible by 3\n",
      "25 is not divisible by 3\n",
      "28 is not divisible by 3\n",
      "3 is divisible by 3\n",
      "16 is not divisible by 3\n"
     ]
    }
   ],
   "source": [
    "my_list = [12, 6, 9, 14, 27, 18, 21, 8, 33, 5, 15, 30, 42, 11, 7, 36, 20, 4, 10, 22, 17, 25, 28, 3, 16]\n",
    "\n",
    "for num in my_list:\n",
    "    if num % 3 == 0:\n",
    "        print(f\"{num} is divisible by 3\")\n",
    "    else:\n",
    "        print(f\"{num} is not divisible by 3\")"
   ]
  },
  {
   "cell_type": "markdown",
   "id": "3781b5d6-03e5-4720-88d9-8a48e450b19a",
   "metadata": {},
   "source": [
    "Q7. What do you understand about mutable and immutable data types? Give examples for both showing this property."
   ]
  },
  {
   "cell_type": "code",
   "execution_count": 27,
   "id": "c72acf7e-d3a6-4187-a740-a0df267747b5",
   "metadata": {},
   "outputs": [
    {
     "name": "stdout",
     "output_type": "stream",
     "text": [
      "(1, 2, 3)\n",
      "(1, 2, 3, 4, 58)\n"
     ]
    }
   ],
   "source": [
    "my_tuple = (1, 2, 3)\n",
    "print(my_tuple)  # Output: (1, 2, 3)\n",
    "\n",
    "my_tuple = my_tuple + (4,58)\n",
    "print(my_tuple)  "
   ]
  },
  {
   "cell_type": "code",
   "execution_count": null,
   "id": "bec1a88e-a829-4844-92a5-42c0dc66781f",
   "metadata": {},
   "outputs": [],
   "source": []
  }
 ],
 "metadata": {
  "kernelspec": {
   "display_name": "Python 3 (ipykernel)",
   "language": "python",
   "name": "python3"
  },
  "language_info": {
   "codemirror_mode": {
    "name": "ipython",
    "version": 3
   },
   "file_extension": ".py",
   "mimetype": "text/x-python",
   "name": "python",
   "nbconvert_exporter": "python",
   "pygments_lexer": "ipython3",
   "version": "3.11.4"
  }
 },
 "nbformat": 4,
 "nbformat_minor": 5
}
