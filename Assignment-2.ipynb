{
 "cells": [
  {
   "cell_type": "markdown",
   "id": "f2be531c-a3a5-4590-8c85-aa0e65fbb6ca",
   "metadata": {},
   "source": [
    "# Assignment-2"
   ]
  },
  {
   "cell_type": "markdown",
   "id": "efb61478-9a58-49ea-bf45-e4b4f5ba2349",
   "metadata": {},
   "source": [
    "Q1. How do you comment code in Python? What are the different types of comments?"
   ]
  },
  {
   "cell_type": "code",
   "execution_count": 5,
   "id": "7160dbad-9e0e-4da2-bad9-946a9dbb4873",
   "metadata": {},
   "outputs": [
    {
     "name": "stdout",
     "output_type": "stream",
     "text": [
      "Hello, World!\n",
      "\n",
      "\n",
      "Hello,World!\n"
     ]
    }
   ],
   "source": [
    "# 1. Single-line comments: Single-line comments are used to add explanations or notes on a single line. \n",
    "# You can create a single-line comment using the hash symbol (#). Example:- \n",
    "# This is a single-line comment example : -\n",
    "print(\"Hello, World!\")\n",
    "print(\"\\n\")\n",
    "\"\"\" This is a multi-line coment Example: -\n",
    "\n",
    "2. Multi-line comments or docstrings: Python does not have a built-in syntax for multi-line comments, \n",
    "but you can use triple-quotes (either single or double) to create multi-line comments or docstrings. \n",
    "These are often used for function and module-level documentation.\"\"\"\n",
    "print(\"Hello,World!\")"
   ]
  },
  {
   "cell_type": "markdown",
   "id": "8cb78f9e-b8ad-4b65-ab6a-4533a1c30c1d",
   "metadata": {},
   "source": [
    "Q2. What are variables in Python? How do you declare and assign values to variables?"
   ]
  },
  {
   "cell_type": "code",
   "execution_count": 13,
   "id": "780d540f-d9c8-47ac-ad84-ec43198b6d2a",
   "metadata": {},
   "outputs": [
    {
     "name": "stdout",
     "output_type": "stream",
     "text": [
      "Data Type: - <class 'int'>\n",
      "\n",
      "\n",
      "Data Type: - <class 'float'>\n",
      "\n",
      "\n",
      "Data Type: - <class 'str'>\n",
      "\n",
      "\n",
      "Data Type: - <class 'bool'>\n",
      "\n",
      "\n",
      "Data Type: - <class 'list'>\n",
      "\n",
      "\n",
      "Data Type: - <class 'tuple'>\n",
      "\n",
      "\n",
      "Data Type: - <class 'dict'>\n",
      "\n",
      "\n",
      "Data Type: - <class 'int'>\n",
      "\n",
      "\n",
      "5\n",
      "\n",
      "\n",
      "6 After Addition\n"
     ]
    }
   ],
   "source": [
    "\"\"\"\n",
    "In Python, variables are used to store and manipulate data. A variable is like a container that holds a value or a reference to an object in memory. \n",
    "Variables allow you to work with data in your programs, and they can represent a wide range of data types, such as numbers, strings, lists, and more.\n",
    "\n",
    "To declare and assign values to variables in Python, you can follow these rules:-\n",
    "\n",
    "1. Variable Names:- \n",
    "Variable names must start with a letter (a-z, A-Z) or an underscore (_).\n",
    "The remaining characters in a variable name can be letters, numbers (0-9), or underscores.\n",
    "Variable names are case-sensitive, meaning \"myVar\" and \"myvar\" are treated as different variables.\n",
    "\n",
    "2. Assignment: - \n",
    "You can assign values to variables using the assignment operator =.\n",
    "Examples:- \n",
    "\"\"\"\n",
    "# 1. Examples of Variable Names:- \n",
    "\n",
    "x = 10 # Integer variable\n",
    "print(f\"Data Type: - {type(x)}\")\n",
    "print(\"\\n\")\n",
    "\n",
    "Fv = 3.14159 # Float variable\n",
    "print(f\"Data Type: - {type(Fv)}\")\n",
    "print(\"\\n\")\n",
    "\n",
    "name = \"Alice\" # String variable\n",
    "print(f\"Data Type: - {type(name)}\")\n",
    "print(\"\\n\")\n",
    "\n",
    "is_valid = True # Boolean variable\n",
    "print(f\"Data Type: - {type(is_valid)}\")\n",
    "print(\"\\n\")\n",
    "\n",
    "my_list = [1, 2, 3] # List variable\n",
    "print(f\"Data Type: - {type(my_list)}\")\n",
    "print(\"\\n\")\n",
    "\n",
    "my_tuple = (4, 5, 6) # Tuple variable\n",
    "print(f\"Data Type: - {type(my_tuple)}\")\n",
    "print(\"\\n\")\n",
    "\n",
    "my_dict = {'key1': 'value1', 'key2': 'value2'} # Dictionary variable\n",
    "print(f\"Data Type: - {type(my_dict)}\")\n",
    "print(\"\\n\")\n",
    "\n",
    "a, b, c = 1, 2, 3 # Multiple assignments in one line\n",
    "\n",
    "x = y = z = 0 # Assigning the same value to multiple variables\n",
    "\n",
    "result = x + y # Assigning the result of an expression to a variable\n",
    "\n",
    "print(f\"Data Type: - {type(result)}\")\n",
    "print(\"\\n\")\n",
    "\n",
    "# 2. Example of Assignment: -\n",
    "x = 5  # Assign 5 to the variable x\n",
    "print(x)\n",
    "print(\"\\n\")\n",
    "x = x + 1  # Increment the value of x by 1 (x is now 6)\n",
    "print(x,\"After Addition\")"
   ]
  },
  {
   "cell_type": "markdown",
   "id": "f0ca581a-16dc-484f-b376-bfd63dedc5f0",
   "metadata": {},
   "source": [
    "Q3. How do you convert one data type to another in Python?"
   ]
  },
  {
   "cell_type": "code",
   "execution_count": 32,
   "id": "3b7e2556-3e1e-43e8-b344-bd1c2d11c6cd",
   "metadata": {},
   "outputs": [
    {
     "name": "stdout",
     "output_type": "stream",
     "text": [
      "Data Type: - <class 'int'>\n",
      "Data Type: - <class 'float'>\n",
      "Data Type: - <class 'float'>\n",
      "After Implicit Type conversion\n",
      "\n",
      "\n",
      "Data Type: - <class 'str'>\n",
      "Data Type: - <class 'int'>\n",
      "After Explicitly converting to integer\n",
      "\n",
      "\n",
      "Data Type: - <class 'int'>\n",
      "Data Type: - <class 'float'>\n",
      "After Explicitly converting to float\n",
      "\n",
      "\n",
      "Data Type: - <class 'int'>\n",
      "Data Type: - <class 'str'>\n",
      "After Explicitly converting to string\n",
      "\n",
      "\n",
      "False\n",
      "Data Type: - <class 'bool'>\n",
      "After Explicitly converting to boolean\n",
      "\n",
      "\n",
      "True\n",
      "Data Type: - <class 'bool'>\n",
      "After Explicitly converting to boolean\n",
      "\n",
      "\n",
      "Data Type: - <class 'str'>\n",
      "Data Type: - <class 'list'>\n",
      "After creating a list from a string\n",
      "\n",
      "\n",
      "Data Type: - <class 'list'>\n",
      "Data Type: - <class 'tuple'>\n",
      "After creating a tuble from a list\n"
     ]
    }
   ],
   "source": [
    "\"\"\"\n",
    "1. Implicit Type Conversion (Coercion): In some cases, Python can automatically convert data \n",
    "types when it's safe to do so. For example, when you perform operations between integers \n",
    "and floats, Python will automatically convert the integers to floats for the operation Example: - \n",
    "\"\"\"\n",
    "x = 5  # integer\n",
    "y = 2.0  # float\n",
    "\n",
    "result = x + y  # x is implicitly converted to float before the addition\n",
    "print(f\"Data Type: - {type(x)}\")\n",
    "print(f\"Data Type: - {type(y)}\")\n",
    "print(f\"Data Type: - {type(result)}\")\n",
    "print(\"After Implicit Type conversion\")\n",
    "print(\"\\n\")\n",
    "\"\"\"\n",
    "2. Explicit Type Conversion (Type Casting): You can explicitly convert one data type to another using \n",
    "built-in functions or constructors. Here are some common type conversion functions:\n",
    "\n",
    "int(): Converts a value to an integer.\n",
    "float(): Converts a value to a floating-point number.\n",
    "str(): Converts a value to a string.\n",
    "bool(): Converts a value to a boolean.\n",
    "Examples:- \n",
    "\"\"\"\n",
    "# Explicitly converting to integer\n",
    "num_str = \"42\"\n",
    "num_int = int(num_str)\n",
    "print(f\"Data Type: - {type(num_str)}\")\n",
    "print(f\"Data Type: - {type(num_int)}\")\n",
    "print(\"After Explicitly converting to integer\")\n",
    "print(\"\\n\")\n",
    "\n",
    "# Explicitly converting to float\n",
    "num = 3\n",
    "num_float = float(num)\n",
    "print(f\"Data Type: - {type(num)}\")\n",
    "print(f\"Data Type: - {type(num_float)}\")\n",
    "print(\"After Explicitly converting to float\")\n",
    "print(\"\\n\")\n",
    "\n",
    "# Explicitly converting to string\n",
    "value = 123\n",
    "value_str = str(value)\n",
    "print(f\"Data Type: - {type(value)}\")\n",
    "print(f\"Data Type: - {type(value_str)}\")\n",
    "print(\"After Explicitly converting to string\")\n",
    "print(\"\\n\")\n",
    "\n",
    "# Explicitly converting to boolean\n",
    "result = bool(0)\n",
    "print(result)\n",
    "print(f\"Data Type: - {type(result)}\")\n",
    "print(\"After Explicitly converting to boolean\")\n",
    "print(\"\\n\")\n",
    "\n",
    "result1 = bool(42)\n",
    "print(result1)\n",
    "print(f\"Data Type: - {type(result1)}\")\n",
    "print(\"After Explicitly converting to boolean\")\n",
    "print(\"\\n\")\n",
    "\"\"\"\n",
    "3. Using Type Constructors: Some data types, such as lists, tuples, and dictionaries, \n",
    "can be created by calling their constructors with appropriate arguments example: - \n",
    "\"\"\"\n",
    "# Creating a list from a string\n",
    "my_str = \"Hello, World!\"\n",
    "my_list = list(my_str)\n",
    "print(f\"Data Type: - {type(my_str)}\")\n",
    "print(f\"Data Type: - {type(my_list)}\")\n",
    "print(\"After creating a list from a string\")\n",
    "print(\"\\n\")\n",
    "\n",
    "\n",
    "# Creating a tuple from a list\n",
    "my_list1 = [\"Apple\", 45, True]\n",
    "my_tuple = tuple(my_list1)\n",
    "print(f\"Data Type: - {type(my_list1)}\")\n",
    "print(f\"Data Type: - {type(my_tuple)}\")\n",
    "print(\"After creating a tuble from a list\")"
   ]
  },
  {
   "cell_type": "markdown",
   "id": "f38bb7b8-5a25-4a8a-bc9a-250d1a4416df",
   "metadata": {},
   "source": [
    "Q4. How do you write and execute a Python script from the command line?"
   ]
  },
  {
   "cell_type": "code",
   "execution_count": 35,
   "id": "66e40e3e-2c37-49ec-82de-1ca601a9b6b1",
   "metadata": {},
   "outputs": [
    {
     "name": "stdout",
     "output_type": "stream",
     "text": [
      "Hello, World!\n"
     ]
    }
   ],
   "source": [
    "# myscript.py\n",
    "print(\"Hello, World!\")"
   ]
  },
  {
   "cell_type": "markdown",
   "id": "f7e8c930-c1b9-4934-a069-9af3be503cb6",
   "metadata": {},
   "source": [
    "Q5. Given a list my_list = [1, 2, 3, 4, 5], write the code to slice the list and obtain the sub-list [2, 3]."
   ]
  },
  {
   "cell_type": "code",
   "execution_count": 39,
   "id": "85c319ab-354e-4fe9-8d72-6a866c39a9c3",
   "metadata": {},
   "outputs": [
    {
     "name": "stdout",
     "output_type": "stream",
     "text": [
      "[2, 3]\n",
      "[2, 3]\n"
     ]
    }
   ],
   "source": [
    "my_list = [1, 2, 3, 4, 5]\n",
    "print(my_list[1:3]) # Method 1 \n",
    "sub_list = my_list[1:3] # Method 2\n",
    "print(sub_list)"
   ]
  },
  {
   "cell_type": "markdown",
   "id": "cc800335-0532-44be-863b-206f2ae5aa4d",
   "metadata": {},
   "source": [
    "Q6. What is a complex number in mathematics, and how is it represented in Python?"
   ]
  },
  {
   "cell_type": "code",
   "execution_count": 45,
   "id": "74beda29-ccaf-41a0-be23-b35c21e1ef16",
   "metadata": {},
   "outputs": [
    {
     "name": "stdout",
     "output_type": "stream",
     "text": [
      "Addition of the ((3+2j), (1-4j)) is (4-2j)\n",
      "Subtraction of the ((3+2j), (1-4j)) is (2+6j)\n",
      "Multiplication of the ((3+2j), (1-4j)) is (11-10j)\n",
      "Division of the ((3+2j), (1-4j)) is (-0.29411764705882354+0.8235294117647058j)\n",
      "\n",
      "\n",
      "3.0\n",
      "Real part of (3+2j) is 3.0\n",
      "\n",
      "\n",
      "2.0\n",
      "Imaginary part of (3+2j) is 2.0\n"
     ]
    }
   ],
   "source": [
    "\"\"\"\n",
    "In mathematics, a complex number is a number that can be expressed in the form a + bi, where a and b are real numbers, and \n",
    "i is the imaginary unit, defined as the square root of -1. The real part a represents the real component of the complex number, \n",
    "and the imaginary part b represents the imaginary component.\n",
    "\n",
    "The real part (a) is a real number, and it represents the position of the complex number on the real number line.\n",
    "The imaginary part (b) is also a real number but is multiplied by the imaginary unit i. \n",
    "It represents the position of the complex number on the imaginary number line.\n",
    "In Python, complex numbers are represented using the complex data type. Complex numbers are created by using the j (or J) \n",
    "suffix to indicate the imaginary unit i. Here are some examples of complex numbers in Python:\n",
    "\"\"\"\n",
    "# Creating complex numbers\n",
    "z1 = 3 + 2j  # 3 is the real part, 2 is the imaginary part\n",
    "z2 = 1 - 4j  # 1 is the real part, -4 is the imaginary part\n",
    "\n",
    "# Operations with complex numbers\n",
    "sum_result = z1 + z2  # Addition of complex numbers\n",
    "print(f\"Addition of the {z1,z2} is {sum_result}\")\n",
    "diff_result = z1 - z2  # Subtraction of complex numbers\n",
    "print(f\"Subtraction of the {z1,z2} is {diff_result}\")\n",
    "product_result = z1 * z2  # Multiplication of complex numbers\n",
    "print(f\"Multiplication of the {z1,z2} is {product_result}\")\n",
    "quotient_result = z1 / z2  # Division of complex numbers\n",
    "print(f\"Division of the {z1,z2} is {quotient_result}\")\n",
    "print(\"\\n\")\n",
    "\n",
    "# Getting the real and imaginary parts of a complex number\n",
    "# To get the real number\n",
    "print(z1.real) # Method 1 \n",
    "real_part = z1.real # Method 2\n",
    "print(f\"Real part of {z1} is {real_part}\") \n",
    "print(\"\\n\")\n",
    "# To get the imaginary number\n",
    "print(z1.imag) # Method 1\n",
    "imaginary_part = z1.imag # Method 2\n",
    "print(f\"Imaginary part of {z1} is {imaginary_part}\") "
   ]
  },
  {
   "cell_type": "markdown",
   "id": "68ee604a-e428-4e93-a061-ba8e6099556b",
   "metadata": {},
   "source": [
    "Q7. What is the correct way to declare a variable named age and assign the value 25 to it?"
   ]
  },
  {
   "cell_type": "code",
   "execution_count": 46,
   "id": "18957dbb-67de-4f22-811f-4866069cba3d",
   "metadata": {},
   "outputs": [
    {
     "name": "stdout",
     "output_type": "stream",
     "text": [
      "25\n"
     ]
    }
   ],
   "source": [
    "age = 25\n",
    "print(age)"
   ]
  },
  {
   "cell_type": "markdown",
   "id": "f2a403f6-7aad-443a-a82d-b82cfa281dbf",
   "metadata": {},
   "source": [
    "Q8. Declare a variable named price and assign the value 9.99 to it. What data type does this variable\n",
    "belong to?"
   ]
  },
  {
   "cell_type": "code",
   "execution_count": 48,
   "id": "d6971792-b672-4d47-92ec-22d35a6afefe",
   "metadata": {},
   "outputs": [
    {
     "name": "stdout",
     "output_type": "stream",
     "text": [
      "9.99\n",
      "<class 'float'>\n"
     ]
    }
   ],
   "source": [
    "price = 9.99\n",
    "print(price)\n",
    "print(type(price))"
   ]
  },
  {
   "cell_type": "markdown",
   "id": "0963c7be-b444-4aaf-a5dd-4dfff8685fcb",
   "metadata": {},
   "source": [
    "Q9. Create a variable named name and assign your full name to it as a string. How would you print the\n",
    "value of this variable?"
   ]
  },
  {
   "cell_type": "code",
   "execution_count": 49,
   "id": "0edcd7e3-4d9c-4eed-9f3e-99fa78adbc22",
   "metadata": {},
   "outputs": [
    {
     "name": "stdout",
     "output_type": "stream",
     "text": [
      "Anuj  Sharma\n",
      "<class 'str'>\n"
     ]
    }
   ],
   "source": [
    "name = \"Anuj  Sharma\"\n",
    "print(name)\n",
    "print(type(name))"
   ]
  },
  {
   "cell_type": "markdown",
   "id": "34f99c08-87a9-4780-9ab8-976788daf044",
   "metadata": {},
   "source": [
    "Q10. Given the string \"Hello, World!\", extract the substring \"World\"."
   ]
  },
  {
   "cell_type": "code",
   "execution_count": 52,
   "id": "4c38a2cd-fce5-4009-9e69-13dab7949e78",
   "metadata": {},
   "outputs": [
    {
     "name": "stdout",
     "output_type": "stream",
     "text": [
      "World\n",
      "World\n"
     ]
    }
   ],
   "source": [
    "my_string = \"Hello, World!\"\n",
    "print(my_string[7:12]) # Method 1\n",
    "substring = my_string[7:12] # Method 2\n",
    "print(substring)"
   ]
  },
  {
   "cell_type": "markdown",
   "id": "6b92b710-93d8-4b36-ab65-71dfff67c03a",
   "metadata": {},
   "source": [
    "Q11. Create a variable named \"is_student\" and assign it a boolean value indicating whether you are\n",
    "currently a student or not."
   ]
  },
  {
   "cell_type": "code",
   "execution_count": 54,
   "id": "4f649d90-d402-46c7-a8f8-5dccc760ef7a",
   "metadata": {},
   "outputs": [
    {
     "name": "stdout",
     "output_type": "stream",
     "text": [
      "<class 'bool'>\n",
      "<class 'bool'>\n"
     ]
    }
   ],
   "source": [
    "is_student = True  # If you are currently a student\n",
    "print(type(is_student))\n",
    "isnot_student = False  # If you are not currently a student\n",
    "print(type(isnot_student))"
   ]
  }
 ],
 "metadata": {
  "kernelspec": {
   "display_name": "Python 3 (ipykernel)",
   "language": "python",
   "name": "python3"
  },
  "language_info": {
   "codemirror_mode": {
    "name": "ipython",
    "version": 3
   },
   "file_extension": ".py",
   "mimetype": "text/x-python",
   "name": "python",
   "nbconvert_exporter": "python",
   "pygments_lexer": "ipython3",
   "version": "3.11.4"
  }
 },
 "nbformat": 4,
 "nbformat_minor": 5
}
