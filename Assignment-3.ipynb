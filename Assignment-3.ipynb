{
 "cells": [
  {
   "cell_type": "markdown",
   "id": "ade99c7e-4f76-40c3-a478-66b5d012bd72",
   "metadata": {},
   "source": [
    "# Assignment-3"
   ]
  },
  {
   "cell_type": "markdown",
   "id": "de274917-7efb-4521-8d86-4cf000c9bc70",
   "metadata": {},
   "source": [
    "Q1. Which keyword is used to create a function? Create a function to return a list of odd numbers in the\n",
    "range of 1 to 25."
   ]
  },
  {
   "cell_type": "code",
   "execution_count": 1,
   "id": "f8e6ad97-0ecb-4d81-a7fd-0fe269cdc234",
   "metadata": {},
   "outputs": [
    {
     "name": "stdout",
     "output_type": "stream",
     "text": [
      "[1, 3, 5, 7, 9, 11, 13, 15, 17, 19, 21, 23, 25]\n"
     ]
    }
   ],
   "source": [
    "def get_odd_numbers():\n",
    "    odd_numbers = []\n",
    "    for number in range(1, 26):\n",
    "        if number % 2 != 0:\n",
    "            odd_numbers.append(number)\n",
    "    return odd_numbers\n",
    "result = get_odd_numbers()\n",
    "print(result)"
   ]
  },
  {
   "cell_type": "markdown",
   "id": "d520e6a2-805d-4e37-9ff2-0e9bd6d76f5d",
   "metadata": {},
   "source": [
    "Q2. Why *args and **kwargs is used in some functions? Create a function each for *args and **kwargs to\n",
    "demonstrate their use."
   ]
  },
  {
   "cell_type": "code",
   "execution_count": 4,
   "id": "79dca6be-2401-48c3-9589-eec27af75b2e",
   "metadata": {},
   "outputs": [
    {
     "name": "stdout",
     "output_type": "stream",
     "text": [
      "15\n",
      "\n",
      "\n",
      "Name: Anuj Sharma\n",
      "Age: 24\n",
      "City: Kokrajhar\n",
      "State: Assam\n"
     ]
    }
   ],
   "source": [
    "\"\"\"\n",
    "1. '*args' (Arbitrary Arguments):\n",
    "*args is used to pass a variable number of non-keyword (positional) arguments to a function.\n",
    "It allows you to call a function with any number of arguments, and those arguments are collected into a tuple inside the function.\n",
    "You can use *args when you don't know in advance how many arguments will be passed to the function.\n",
    "Here's an example of a function that uses *args to calculate the sum of all the arguments:- \n",
    "\"\"\"\n",
    "def sum_args(*args):\n",
    "    total = 0\n",
    "    for num in args:\n",
    "        total += num\n",
    "    return total\n",
    "\n",
    "result = sum_args(1, 2, 3, 4, 5)\n",
    "print(result)\n",
    "print(\"\\n\")\n",
    "\"\"\"\n",
    "2. '**kwargs' (Keyword Arguments):\n",
    "**kwargs is used to pass a variable number of keyword arguments (key-value pairs) to a function.\n",
    "It allows you to call a function with any number of keyword arguments, and those arguments are collected into a dictionary inside the function.\n",
    "You can use **kwargs when you want to handle named arguments with flexibility.\n",
    "Here's an example of a function that uses **kwargs to print out key-value pairs:\n",
    "\"\"\"\n",
    "def print_kwargs(**kwargs):\n",
    "    for key, value in kwargs.items():\n",
    "        print(f\"{key}: {value}\")\n",
    "\n",
    "print_kwargs(Name=\"Anuj Sharma\", Age=24, City=\"Kokrajhar\", State=\"Assam\")"
   ]
  },
  {
   "cell_type": "markdown",
   "id": "3e76120a-e429-4cfe-803e-ab234b3442d1",
   "metadata": {},
   "source": [
    "Q3. What is an iterator in python? Name the method used to initialise the iterator object and the method\n",
    "used for iteration. Use these methods to print the first five elements of the given list [2, 4, 6, 8, 10, 12, 14, 16,\n",
    "18, 20]."
   ]
  },
  {
   "cell_type": "code",
   "execution_count": 6,
   "id": "6d1926d2-9fbc-4cbd-9ade-6a57589a17c3",
   "metadata": {},
   "outputs": [
    {
     "name": "stdout",
     "output_type": "stream",
     "text": [
      "2\n",
      "4\n",
      "6\n",
      "8\n",
      "10\n"
     ]
    }
   ],
   "source": [
    "\"\"\"\n",
    "In Python, an iterator is an object that allows you to traverse a collection (such as a list) and retrieve \n",
    "its elements one at a time. To work with an iterator, you typically use two methods:\n",
    "\n",
    "1. iter(): This method is used to initialize an iterator object. It takes an iterable (e.g., a list) as an \n",
    "argument and returns an iterator for that iterable.\n",
    "\n",
    "2. next(): This method is used for iteration. It retrieves the next element from the iterator. When there are \n",
    "no more elements to retrieve, it raises a StopIteration exception.\n",
    "Examples:- \n",
    "\"\"\"\n",
    "my_list = [2, 4, 6, 8, 10, 12, 14, 16, 18, 20]\n",
    "my_iterator = iter(my_list)\n",
    "\n",
    "for _ in range(5):\n",
    "    element = next(my_iterator)\n",
    "    print(element)"
   ]
  },
  {
   "cell_type": "markdown",
   "id": "4f8d4620-bcba-4775-be93-d4a801db78ac",
   "metadata": {},
   "source": [
    "Q4. What is a generator function in python? Why yield keyword is used? Give an example of a generator\n",
    "function."
   ]
  },
  {
   "cell_type": "code",
   "execution_count": 7,
   "id": "6e0c24dd-81b4-43b7-a12c-0a7e07ae2c69",
   "metadata": {},
   "outputs": [
    {
     "name": "stdout",
     "output_type": "stream",
     "text": [
      "1\n",
      "2\n",
      "3\n",
      "4\n",
      "5\n"
     ]
    }
   ],
   "source": [
    "\"\"\"\n",
    "A generator function in Python is a special type of function that allows you to generate a sequence of values on-the-fly, one at \n",
    "a time, rather than storing them in memory all at once like a list. Generator functions are defined using the yield keyword \n",
    "instead of return. When a function contains a yield statement, it becomes a generator function, and each time the yield statement \n",
    "is encountered, the function's state is saved, and the yielded value is returned to the caller. This allows you to iterate over the \n",
    "values generated by the function one at a time, conserving memory and enabling the generation of potentially infinite sequences.\n",
    "\n",
    "The yield keyword is used to produce a value from the generator function and temporarily pause its execution. \n",
    "When the generator function is later called again, execution resumes from where it was paused, and it continues to generate values \n",
    "until it encounters another yield statement or until the function completes.\n",
    "\n",
    "Examples:- \n",
    "\"\"\"\n",
    "def generate_numbers(n):\n",
    "    for i in range(1, n + 1):\n",
    "        yield i\n",
    "\n",
    "num_generator = generate_numbers(5)\n",
    "\n",
    "for num in num_generator:\n",
    "    print(num)"
   ]
  },
  {
   "cell_type": "markdown",
   "id": "a7d02275-d06a-4a9b-9cc5-4131e297316f",
   "metadata": {},
   "source": [
    "Q5. Create a generator function for prime numbers less than 1000. Use the next() method to print the first 20 prime numbers."
   ]
  },
  {
   "cell_type": "code",
   "execution_count": 8,
   "id": "5e83fa74-cd3c-4a7a-a454-6dd38c4ea4ac",
   "metadata": {},
   "outputs": [
    {
     "name": "stdout",
     "output_type": "stream",
     "text": [
      "2\n",
      "3\n",
      "5\n",
      "7\n",
      "11\n",
      "13\n",
      "17\n",
      "19\n",
      "23\n",
      "29\n",
      "31\n",
      "37\n",
      "41\n",
      "43\n",
      "47\n",
      "53\n",
      "59\n",
      "61\n",
      "67\n",
      "71\n"
     ]
    }
   ],
   "source": [
    "def is_prime(n):\n",
    "    if n <= 1:\n",
    "        return False\n",
    "    if n <= 3:\n",
    "        return True\n",
    "    if n % 2 == 0 or n % 3 == 0:\n",
    "        return False\n",
    "    i = 5\n",
    "    while i * i <= n:\n",
    "        if n % i == 0 or n % (i + 2) == 0:\n",
    "            return False\n",
    "        i += 6\n",
    "    return True\n",
    "\n",
    "def prime_generator():\n",
    "    n = 2\n",
    "    while True:\n",
    "        if is_prime(n):\n",
    "            yield n\n",
    "        n += 1\n",
    "\n",
    "\n",
    "prime_gen = prime_generator()\n",
    "\n",
    "for _ in range(20):\n",
    "    prime = next(prime_gen)\n",
    "    print(prime)"
   ]
  }
 ],
 "metadata": {
  "kernelspec": {
   "display_name": "Python 3 (ipykernel)",
   "language": "python",
   "name": "python3"
  },
  "language_info": {
   "codemirror_mode": {
    "name": "ipython",
    "version": 3
   },
   "file_extension": ".py",
   "mimetype": "text/x-python",
   "name": "python",
   "nbconvert_exporter": "python",
   "pygments_lexer": "ipython3",
   "version": "3.11.4"
  }
 },
 "nbformat": 4,
 "nbformat_minor": 5
}
